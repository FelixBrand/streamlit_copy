{
 "cells": [
  {
   "cell_type": "code",
   "execution_count": 1,
   "metadata": {},
   "outputs": [],
   "source": [
    "\n",
    "\n",
    "from tensorflow.keras.models import load_model\n",
    "import shap\n",
    "from sklearn.model_selection import train_test_split\n",
    "from keras.utils import to_categorical\n",
    "import numpy as np\n",
    "\n",
    "import pandas as pd\n"
   ]
  },
  {
   "cell_type": "code",
   "execution_count": null,
   "metadata": {},
   "outputs": [],
   "source": [
    "\n",
    "model = load_model(\"..\\\\..\\\\models\\\\combined_cnn1_bs256_k7_noweights.keras\",\n",
    "                                compile=False)\n",
    "df = pd.read_pickle(\"..\\\\..\\\\data\\\\.MIT_Heartbeat_original_fs180hz.pkl\")\n",
    "\n",
    "class_labels = {\"N\": 0,\n",
    "                \"S\": 1,\n",
    "                \"V\": 2,\n",
    "                \"F\": 3,\n",
    "                \"Q\": 4}\n",
    "record_length = 315\n",
    "X_l2 = df.iloc[:, 6:6+record_length]\n",
    "X_v5 = df.iloc[:, 6+record_length:]\n",
    "X_l2v5 = df.iloc[:, 6:]\n",
    "X = X_l2\n",
    "y = df[\"class\"].replace(class_labels)\n",
    "\n",
    "# X = digital_filter_preprocess(X)\n",
    "# X = substract_mean(X, n=3)\n",
    "# X, y = delete_rows_of_class_n(X, y, p=0.5, label=0)\n",
    "#X = preprocess_fft(X)\n",
    "\n",
    "X_train_l2, X_test_l2, y_train_labels, y_test_labels = train_test_split(X_l2, y, test_size=0.2, random_state=42, shuffle=True, stratify=y)\n",
    "X_train_v5, X_test_v5, y_train_labels, y_test_labels = train_test_split(X_v5, y, test_size=0.2, random_state=42, shuffle=True, stratify=y)\n",
    "X_train_l2v5, X_test_l2v5, y_train_labels, y_test_labels = train_test_split(X_l2v5, y, test_size=0.2, random_state=42, shuffle=True, stratify=y)\n",
    "\n",
    "# One-Hot-Encoding\n",
    "y_train = to_categorical(y_train_labels)\n",
    "y_test = to_categorical(y_test_labels)\n",
    "\n",
    "X1 = np.array(X_test_l2)\n",
    "X2 = np.array(X_test_v5)\n",
    "\n",
    "X_test = np.concatenate((X1, X2), axis=1)\n"
   ]
  },
  {
   "cell_type": "code",
   "execution_count": 30,
   "metadata": {},
   "outputs": [
    {
     "data": {
      "text/plain": [
       "[0.31002551887238755,\n",
       " 1.0,\n",
       " 1.0,\n",
       " 1.0,\n",
       " 1.0,\n",
       " 1.0,\n",
       " 1.0,\n",
       " 1.0,\n",
       " 1.0,\n",
       " 1.0,\n",
       " 1.0,\n",
       " 1.0,\n",
       " 1.0,\n",
       " 1.0,\n",
       " 1.0,\n",
       " 1.0,\n",
       " 1.0,\n",
       " 1.0,\n",
       " 1.0,\n",
       " 1.0,\n",
       " 1.0,\n",
       " 1.0,\n",
       " 1.0,\n",
       " 1.0,\n",
       " 1.0,\n",
       " 1.0,\n",
       " 1.0,\n",
       " 1.0,\n",
       " 1.0,\n",
       " 1.0]"
      ]
     },
     "execution_count": 30,
     "metadata": {},
     "output_type": "execute_result"
    }
   ],
   "source": [
    "list(sigmoid_weights(np.arange(0.001,30)).values())"
   ]
  },
  {
   "cell_type": "code",
   "execution_count": 65,
   "metadata": {},
   "outputs": [
    {
     "data": {
      "text/plain": [
       "(630, 5)"
      ]
     },
     "execution_count": 65,
     "metadata": {},
     "output_type": "execute_result"
    }
   ],
   "source": [
    "values1 = np.load(\"shapvalues_000_127.npy\")\n",
    "values2 = np.load(\"shapvalues_128_256.npy\")\n",
    "values3 = np.load(\"shapvalues_256_384.npy\")\n",
    "shap_values =np.concatenate((values1, values2, values3))\n",
    "# import plotly.graph_objects as go\n",
    "# from plotly.subplots import make_subplots\n",
    "\n",
    "mean_values = np.mean(shap_values, axis=0)\n",
    "std_upper = mean_values + np.std(shap_values, axis=0)\n",
    "std_lower = mean_values - np.std(shap_values, axis=0)\n",
    "time = np.arange(0, 315)\n",
    "std_lower.shape"
   ]
  },
  {
   "cell_type": "code",
   "execution_count": 61,
   "metadata": {},
   "outputs": [
    {
     "data": {
      "application/vnd.plotly.v1+json": {
       "config": {
        "plotlyServerURL": "https://plot.ly"
       },
       "data": [
        {
         "line": {
          "color": "blue",
          "width": 2
         },
         "showlegend": false,
         "type": "scatter",
         "x": [
          0.23988963006158529,
          0.8410013967375345,
          1.4421131634134838,
          2.043224930089433,
          2.6443366967653823,
          3.2454484634413316,
          3.8465602301172805,
          4.44767199679323,
          5.048783763469179,
          5.649895530145128,
          6.2510072968210775,
          6.852119063497026,
          7.453230830172975,
          8.054342596848926,
          8.655454363524875,
          9.256566130200824,
          9.857677896876773,
          10.458789663552722,
          11.05990143022867,
          11.661013196904621,
          12.26212496358057,
          12.863236730256519,
          13.464348496932468,
          14.065460263608417,
          14.666572030284366,
          15.267683796960316,
          15.868795563636265,
          16.469907330312218,
          17.071019096988167,
          17.672130863664115,
          18.273242630340064,
          18.874354397016013,
          19.475466163691962,
          20.07657793036791,
          20.67768969704386,
          21.27880146371981,
          21.879913230395758,
          22.481024997071707,
          23.08213676374766,
          23.683248530423608,
          24.284360297099557,
          24.885472063775506,
          25.486583830451455,
          26.087695597127404,
          26.688807363803353,
          27.2899191304793,
          27.89103089715525,
          28.4921426638312,
          29.093254430507148,
          29.694366197183097
         ],
         "y": [
          0.31002551887238755,
          0.365998629052835,
          0.4258403315197463,
          0.4879361948842156,
          0.5504066554877505,
          0.611326696584921,
          0.6689568490195412,
          0.7219287945215417,
          0.7693470142208035,
          0.8107983861092252,
          0.8462887418334519,
          0.8761388257215044,
          0.9008711436895611,
          0.9211096463547033,
          0.9375028353177324,
          0.9506719920545998,
          0.9611810975329913,
          0.9695230622529171,
          0.9761169283683356,
          0.9813116717426702,
          0.9853934280029297,
          0.9885940415898828,
          0.9910996665456691,
          0.9930587284667322,
          0.9945889334382644,
          0.9957832367579419,
          0.9967148101620023,
          0.9974411078906388,
          0.9980071550069166,
          0.9984481828445854,
          0.9987917268994412,
          0.9990592882140089,
          0.9992676439028674,
          0.9994298777930808,
          0.9995561890690832,
          0.999654525599982,
          0.999731079270212,
          0.9997906729652666,
          0.9998370626589771,
          0.9998731730751154,
          0.9999012814372171,
          0.9999231606858728,
          0.9999401910704973,
          0.9999534470786741,
          0.9999637651411861,
          0.9999717963566388,
          0.9999780475456815,
          0.9999829132152641,
          0.9999867004439,
          0.999989648254677
         ]
        },
        {
         "hovertext": [
          "Class 0",
          "Class 1",
          "Class 2",
          "Class 3",
          "Class 4"
         ],
         "marker": {
          "color": "red",
          "line": {
           "color": "black",
           "width": 2
          },
          "size": 10,
          "symbol": "x"
         },
         "mode": "markers",
         "showlegend": false,
         "type": "scatter",
         "x": [
          0.23988963006158529,
          7.638768115942029,
          3.4197891321978915,
          29.694366197183097,
          2.670847189231987
         ],
         "y": [
          0.31002551887238755,
          0.9075670910548637,
          0.6284487613341315,
          0.999989648254677,
          0.5531398063057511
         ]
        }
       ],
       "layout": {
        "height": 350,
        "template": {
         "data": {
          "bar": [
           {
            "error_x": {
             "color": "rgb(51,51,51)"
            },
            "error_y": {
             "color": "rgb(51,51,51)"
            },
            "marker": {
             "line": {
              "color": "rgb(237,237,237)",
              "width": 0.5
             },
             "pattern": {
              "fillmode": "overlay",
              "size": 10,
              "solidity": 0.2
             }
            },
            "type": "bar"
           }
          ],
          "barpolar": [
           {
            "marker": {
             "line": {
              "color": "rgb(237,237,237)",
              "width": 0.5
             },
             "pattern": {
              "fillmode": "overlay",
              "size": 10,
              "solidity": 0.2
             }
            },
            "type": "barpolar"
           }
          ],
          "carpet": [
           {
            "aaxis": {
             "endlinecolor": "rgb(51,51,51)",
             "gridcolor": "white",
             "linecolor": "white",
             "minorgridcolor": "white",
             "startlinecolor": "rgb(51,51,51)"
            },
            "baxis": {
             "endlinecolor": "rgb(51,51,51)",
             "gridcolor": "white",
             "linecolor": "white",
             "minorgridcolor": "white",
             "startlinecolor": "rgb(51,51,51)"
            },
            "type": "carpet"
           }
          ],
          "choropleth": [
           {
            "colorbar": {
             "outlinewidth": 0,
             "tickcolor": "rgb(237,237,237)",
             "ticklen": 6,
             "ticks": "inside"
            },
            "type": "choropleth"
           }
          ],
          "contour": [
           {
            "colorbar": {
             "outlinewidth": 0,
             "tickcolor": "rgb(237,237,237)",
             "ticklen": 6,
             "ticks": "inside"
            },
            "colorscale": [
             [
              0,
              "rgb(20,44,66)"
             ],
             [
              1,
              "rgb(90,179,244)"
             ]
            ],
            "type": "contour"
           }
          ],
          "contourcarpet": [
           {
            "colorbar": {
             "outlinewidth": 0,
             "tickcolor": "rgb(237,237,237)",
             "ticklen": 6,
             "ticks": "inside"
            },
            "type": "contourcarpet"
           }
          ],
          "heatmap": [
           {
            "colorbar": {
             "outlinewidth": 0,
             "tickcolor": "rgb(237,237,237)",
             "ticklen": 6,
             "ticks": "inside"
            },
            "colorscale": [
             [
              0,
              "rgb(20,44,66)"
             ],
             [
              1,
              "rgb(90,179,244)"
             ]
            ],
            "type": "heatmap"
           }
          ],
          "heatmapgl": [
           {
            "colorbar": {
             "outlinewidth": 0,
             "tickcolor": "rgb(237,237,237)",
             "ticklen": 6,
             "ticks": "inside"
            },
            "colorscale": [
             [
              0,
              "rgb(20,44,66)"
             ],
             [
              1,
              "rgb(90,179,244)"
             ]
            ],
            "type": "heatmapgl"
           }
          ],
          "histogram": [
           {
            "marker": {
             "pattern": {
              "fillmode": "overlay",
              "size": 10,
              "solidity": 0.2
             }
            },
            "type": "histogram"
           }
          ],
          "histogram2d": [
           {
            "colorbar": {
             "outlinewidth": 0,
             "tickcolor": "rgb(237,237,237)",
             "ticklen": 6,
             "ticks": "inside"
            },
            "colorscale": [
             [
              0,
              "rgb(20,44,66)"
             ],
             [
              1,
              "rgb(90,179,244)"
             ]
            ],
            "type": "histogram2d"
           }
          ],
          "histogram2dcontour": [
           {
            "colorbar": {
             "outlinewidth": 0,
             "tickcolor": "rgb(237,237,237)",
             "ticklen": 6,
             "ticks": "inside"
            },
            "colorscale": [
             [
              0,
              "rgb(20,44,66)"
             ],
             [
              1,
              "rgb(90,179,244)"
             ]
            ],
            "type": "histogram2dcontour"
           }
          ],
          "mesh3d": [
           {
            "colorbar": {
             "outlinewidth": 0,
             "tickcolor": "rgb(237,237,237)",
             "ticklen": 6,
             "ticks": "inside"
            },
            "type": "mesh3d"
           }
          ],
          "parcoords": [
           {
            "line": {
             "colorbar": {
              "outlinewidth": 0,
              "tickcolor": "rgb(237,237,237)",
              "ticklen": 6,
              "ticks": "inside"
             }
            },
            "type": "parcoords"
           }
          ],
          "pie": [
           {
            "automargin": true,
            "type": "pie"
           }
          ],
          "scatter": [
           {
            "fillpattern": {
             "fillmode": "overlay",
             "size": 10,
             "solidity": 0.2
            },
            "type": "scatter"
           }
          ],
          "scatter3d": [
           {
            "line": {
             "colorbar": {
              "outlinewidth": 0,
              "tickcolor": "rgb(237,237,237)",
              "ticklen": 6,
              "ticks": "inside"
             }
            },
            "marker": {
             "colorbar": {
              "outlinewidth": 0,
              "tickcolor": "rgb(237,237,237)",
              "ticklen": 6,
              "ticks": "inside"
             }
            },
            "type": "scatter3d"
           }
          ],
          "scattercarpet": [
           {
            "marker": {
             "colorbar": {
              "outlinewidth": 0,
              "tickcolor": "rgb(237,237,237)",
              "ticklen": 6,
              "ticks": "inside"
             }
            },
            "type": "scattercarpet"
           }
          ],
          "scattergeo": [
           {
            "marker": {
             "colorbar": {
              "outlinewidth": 0,
              "tickcolor": "rgb(237,237,237)",
              "ticklen": 6,
              "ticks": "inside"
             }
            },
            "type": "scattergeo"
           }
          ],
          "scattergl": [
           {
            "marker": {
             "colorbar": {
              "outlinewidth": 0,
              "tickcolor": "rgb(237,237,237)",
              "ticklen": 6,
              "ticks": "inside"
             }
            },
            "type": "scattergl"
           }
          ],
          "scattermapbox": [
           {
            "marker": {
             "colorbar": {
              "outlinewidth": 0,
              "tickcolor": "rgb(237,237,237)",
              "ticklen": 6,
              "ticks": "inside"
             }
            },
            "type": "scattermapbox"
           }
          ],
          "scatterpolar": [
           {
            "marker": {
             "colorbar": {
              "outlinewidth": 0,
              "tickcolor": "rgb(237,237,237)",
              "ticklen": 6,
              "ticks": "inside"
             }
            },
            "type": "scatterpolar"
           }
          ],
          "scatterpolargl": [
           {
            "marker": {
             "colorbar": {
              "outlinewidth": 0,
              "tickcolor": "rgb(237,237,237)",
              "ticklen": 6,
              "ticks": "inside"
             }
            },
            "type": "scatterpolargl"
           }
          ],
          "scatterternary": [
           {
            "marker": {
             "colorbar": {
              "outlinewidth": 0,
              "tickcolor": "rgb(237,237,237)",
              "ticklen": 6,
              "ticks": "inside"
             }
            },
            "type": "scatterternary"
           }
          ],
          "surface": [
           {
            "colorbar": {
             "outlinewidth": 0,
             "tickcolor": "rgb(237,237,237)",
             "ticklen": 6,
             "ticks": "inside"
            },
            "colorscale": [
             [
              0,
              "rgb(20,44,66)"
             ],
             [
              1,
              "rgb(90,179,244)"
             ]
            ],
            "type": "surface"
           }
          ],
          "table": [
           {
            "cells": {
             "fill": {
              "color": "rgb(237,237,237)"
             },
             "line": {
              "color": "white"
             }
            },
            "header": {
             "fill": {
              "color": "rgb(217,217,217)"
             },
             "line": {
              "color": "white"
             }
            },
            "type": "table"
           }
          ]
         },
         "layout": {
          "annotationdefaults": {
           "arrowhead": 0,
           "arrowwidth": 1
          },
          "autotypenumbers": "strict",
          "coloraxis": {
           "colorbar": {
            "outlinewidth": 0,
            "tickcolor": "rgb(237,237,237)",
            "ticklen": 6,
            "ticks": "inside"
           }
          },
          "colorscale": {
           "sequential": [
            [
             0,
             "rgb(20,44,66)"
            ],
            [
             1,
             "rgb(90,179,244)"
            ]
           ],
           "sequentialminus": [
            [
             0,
             "rgb(20,44,66)"
            ],
            [
             1,
             "rgb(90,179,244)"
            ]
           ]
          },
          "colorway": [
           "#F8766D",
           "#A3A500",
           "#00BF7D",
           "#00B0F6",
           "#E76BF3"
          ],
          "font": {
           "color": "rgb(51,51,51)"
          },
          "geo": {
           "bgcolor": "white",
           "lakecolor": "white",
           "landcolor": "rgb(237,237,237)",
           "showlakes": true,
           "showland": true,
           "subunitcolor": "white"
          },
          "hoverlabel": {
           "align": "left"
          },
          "hovermode": "closest",
          "paper_bgcolor": "white",
          "plot_bgcolor": "rgb(237,237,237)",
          "polar": {
           "angularaxis": {
            "gridcolor": "white",
            "linecolor": "white",
            "showgrid": true,
            "tickcolor": "rgb(51,51,51)",
            "ticks": "outside"
           },
           "bgcolor": "rgb(237,237,237)",
           "radialaxis": {
            "gridcolor": "white",
            "linecolor": "white",
            "showgrid": true,
            "tickcolor": "rgb(51,51,51)",
            "ticks": "outside"
           }
          },
          "scene": {
           "xaxis": {
            "backgroundcolor": "rgb(237,237,237)",
            "gridcolor": "white",
            "gridwidth": 2,
            "linecolor": "white",
            "showbackground": true,
            "showgrid": true,
            "tickcolor": "rgb(51,51,51)",
            "ticks": "outside",
            "zerolinecolor": "white"
           },
           "yaxis": {
            "backgroundcolor": "rgb(237,237,237)",
            "gridcolor": "white",
            "gridwidth": 2,
            "linecolor": "white",
            "showbackground": true,
            "showgrid": true,
            "tickcolor": "rgb(51,51,51)",
            "ticks": "outside",
            "zerolinecolor": "white"
           },
           "zaxis": {
            "backgroundcolor": "rgb(237,237,237)",
            "gridcolor": "white",
            "gridwidth": 2,
            "linecolor": "white",
            "showbackground": true,
            "showgrid": true,
            "tickcolor": "rgb(51,51,51)",
            "ticks": "outside",
            "zerolinecolor": "white"
           }
          },
          "shapedefaults": {
           "fillcolor": "black",
           "line": {
            "width": 0
           },
           "opacity": 0.3
          },
          "ternary": {
           "aaxis": {
            "gridcolor": "white",
            "linecolor": "white",
            "showgrid": true,
            "tickcolor": "rgb(51,51,51)",
            "ticks": "outside"
           },
           "baxis": {
            "gridcolor": "white",
            "linecolor": "white",
            "showgrid": true,
            "tickcolor": "rgb(51,51,51)",
            "ticks": "outside"
           },
           "bgcolor": "rgb(237,237,237)",
           "caxis": {
            "gridcolor": "white",
            "linecolor": "white",
            "showgrid": true,
            "tickcolor": "rgb(51,51,51)",
            "ticks": "outside"
           }
          },
          "xaxis": {
           "automargin": true,
           "gridcolor": "white",
           "linecolor": "white",
           "showgrid": true,
           "tickcolor": "rgb(51,51,51)",
           "ticks": "outside",
           "title": {
            "standoff": 15
           },
           "zerolinecolor": "white"
          },
          "yaxis": {
           "automargin": true,
           "gridcolor": "white",
           "linecolor": "white",
           "showgrid": true,
           "tickcolor": "rgb(51,51,51)",
           "ticks": "outside",
           "title": {
            "standoff": 15
           },
           "zerolinecolor": "white"
          }
         }
        },
        "title": {
         "font": {
          "family": "Arial",
          "size": 22
         },
         "text": "Sample Weights"
        },
        "width": 500,
        "xaxis": {
         "title": {
          "font": {
           "family": "Arial",
           "size": 20
          },
          "text": "Balanced Weights"
         }
        },
        "yaxis": {
         "title": {
          "font": {
           "family": "Arial",
           "size": 20
          },
          "text": "Sigmoid Weights"
         }
        }
       }
      }
     },
     "metadata": {},
     "output_type": "display_data"
    }
   ],
   "source": [
    "\n",
    "def plot_sigmoid_weights():\n",
    "    def sigmoid_weights(weights):\n",
    "        \"\"\" Custom modification of the sigmoid function to have a little bit of different values\"\"\"\n",
    "        weights = np.array(weights)\n",
    "        weights = weights / np.min(weights)\n",
    "        weights =  1/(1+np.exp(-(weights/10-0.9)))\n",
    "        weights_dict = {i: weights[i] for i in range(len(weights))}\n",
    "        return weights_dict\n",
    "    class_weights = {0: 0.23988963006158529,\n",
    "    1: 7.638768115942029,\n",
    "    2: 3.4197891321978915,\n",
    "    3: 29.694366197183097,\n",
    "    4: 2.670847189231987}\n",
    "    distribution = pd.read_pickle(\"data\\\\MIT_classdistribution\")\n",
    "\n",
    "    sigmoid = sigmoid_weights(list(class_weights.values()))\n",
    "    # list(distribution)\n",
    "    # sigmoid.values()\n",
    "    import matplotlib.pyplot as plt\n",
    "    import plotly.graph_objects as go\n",
    "    x = np.arange(0, 30)\n",
    "    fig = go.Figure()\n",
    "    FONT = dict(family=\"Arial\", size=20,)\n",
    "    FONT_TITLE = dict(family=\"Arial\", size=22)\n",
    "\n",
    "    x = np.linspace(np.min(list(class_weights.values())), np.max(list(class_weights.values())))\n",
    "    fig.add_trace(go.Scatter(x=x, y=list(sigmoid_weights(x).values()),\n",
    "                            showlegend=False,\n",
    "                            line=dict(width=2, color='blue'),\n",
    "                            ))\n",
    "    fig.add_trace(go.Scatter(x=list(class_weights.values()),\n",
    "                            y=list(sigmoid.values()),\n",
    "                            hovertext=[ f\"Class {i}\" for i in list(class_weights.keys())],\n",
    "                            marker=dict(\n",
    "                                    symbol='x',  # Use 'x' as the marker symbol\n",
    "                                    size=10,     # Size of the marker\n",
    "                                    color='red', # Color of the marker\n",
    "                                    line=dict(\n",
    "                                        width=2,\n",
    "                                        color='black'  # Border color of the marker\n",
    "                                    )),\n",
    "                            mode=\"markers\",\n",
    "                            showlegend=False\n",
    "\n",
    "                            ))\n",
    "    fig.update_layout(\n",
    "        title=dict(text=\"Sample Weights\", font=FONT_TITLE),\n",
    "        xaxis_title=dict(text=\"Balanced Weights\", font=FONT),\n",
    "        yaxis_title=dict(text=\"Sigmoid Weights\", font=FONT),\n",
    "        template = \"ggplot2\",\n",
    "        width=500,\n",
    "        height=350,\n",
    "    )\n",
    "    return fig\n",
    "\n",
    "\n"
   ]
  },
  {
   "cell_type": "code",
   "execution_count": 37,
   "metadata": {},
   "outputs": [
    {
     "data": {
      "text/plain": [
       "29.694366197183097"
      ]
     },
     "execution_count": 37,
     "metadata": {},
     "output_type": "execute_result"
    }
   ],
   "source": [
    "np.max(list(class_weights.values()))"
   ]
  },
  {
   "cell_type": "code",
   "execution_count": 31,
   "metadata": {},
   "outputs": [
    {
     "ename": "ValueError",
     "evalue": "The feature_names arg must include all features represented in shap_values.",
     "output_type": "error",
     "traceback": [
      "\u001b[1;31m---------------------------------------------------------------------------\u001b[0m",
      "\u001b[1;31mValueError\u001b[0m                                Traceback (most recent call last)",
      "Cell \u001b[1;32mIn[31], line 6\u001b[0m\n\u001b[0;32m      4\u001b[0m i \u001b[38;5;241m=\u001b[39m \u001b[38;5;241m0\u001b[39m\n\u001b[0;32m      5\u001b[0m shap_values \u001b[38;5;241m=\u001b[39m np\u001b[38;5;241m.\u001b[39mload(\u001b[38;5;124m\"\u001b[39m\u001b[38;5;124mshapevalues_0_127.npy\u001b[39m\u001b[38;5;124m\"\u001b[39m)\n\u001b[1;32m----> 6\u001b[0m \u001b[43mshap\u001b[49m\u001b[38;5;241;43m.\u001b[39;49m\u001b[43mdecision_plot\u001b[49m\u001b[43m(\u001b[49m\u001b[38;5;241;43m2\u001b[39;49m\u001b[43m,\u001b[49m\u001b[43m \u001b[49m\u001b[43mshap_values\u001b[49m\u001b[43m[\u001b[49m\u001b[43mi\u001b[49m\u001b[43m,\u001b[49m\u001b[43m:\u001b[49m\u001b[43m,\u001b[49m\u001b[43m:\u001b[49m\u001b[43m]\u001b[49m\u001b[43m,\u001b[49m\u001b[43m \u001b[49m\u001b[43mX_test\u001b[49m\u001b[43m[\u001b[49m\u001b[43mi\u001b[49m\u001b[43m,\u001b[49m\u001b[43m \u001b[49m\u001b[43m:\u001b[49m\u001b[43m]\u001b[49m\u001b[43m,\u001b[49m\u001b[43m \u001b[49m\u001b[43mfeature_names\u001b[49m\u001b[38;5;241;43m=\u001b[39;49m\u001b[43mX\u001b[49m\u001b[38;5;241;43m.\u001b[39;49m\u001b[43mcolumns\u001b[49m\u001b[43m)\u001b[49m\n",
      "File \u001b[1;32mc:\\Users\\felix\\anaconda3\\envs\\Heartbeat2\\lib\\site-packages\\shap\\plots\\_decision.py:398\u001b[0m, in \u001b[0;36mdecision\u001b[1;34m(base_value, shap_values, features, feature_names, feature_order, feature_display_range, highlight, link, plot_color, axis_color, y_demarc_color, alpha, color_bar, auto_size_plot, title, xlim, show, return_objects, ignore_warnings, new_base_value, legend_labels, legend_location)\u001b[0m\n\u001b[0;32m    396\u001b[0m     feature_names \u001b[38;5;241m=\u001b[39m [labels[\u001b[38;5;124m'\u001b[39m\u001b[38;5;124mFEATURE\u001b[39m\u001b[38;5;124m'\u001b[39m] \u001b[38;5;241m%\u001b[39m \u001b[38;5;28mstr\u001b[39m(i) \u001b[38;5;28;01mfor\u001b[39;00m i \u001b[38;5;129;01min\u001b[39;00m \u001b[38;5;28mrange\u001b[39m(feature_count)]\n\u001b[0;32m    397\u001b[0m \u001b[38;5;28;01melif\u001b[39;00m \u001b[38;5;28mlen\u001b[39m(feature_names) \u001b[38;5;241m!=\u001b[39m feature_count:\n\u001b[1;32m--> 398\u001b[0m     \u001b[38;5;28;01mraise\u001b[39;00m \u001b[38;5;167;01mValueError\u001b[39;00m(\u001b[38;5;124m\"\u001b[39m\u001b[38;5;124mThe feature_names arg must include all features represented in shap_values.\u001b[39m\u001b[38;5;124m\"\u001b[39m)\n\u001b[0;32m    399\u001b[0m \u001b[38;5;28;01melif\u001b[39;00m \u001b[38;5;129;01mnot\u001b[39;00m \u001b[38;5;28misinstance\u001b[39m(feature_names, (\u001b[38;5;28mlist\u001b[39m, np\u001b[38;5;241m.\u001b[39mndarray)):\n\u001b[0;32m    400\u001b[0m     \u001b[38;5;28;01mraise\u001b[39;00m \u001b[38;5;167;01mTypeError\u001b[39;00m(\u001b[38;5;124m\"\u001b[39m\u001b[38;5;124mThe feature_names arg requires a list or numpy array.\u001b[39m\u001b[38;5;124m\"\u001b[39m)\n",
      "\u001b[1;31mValueError\u001b[0m: The feature_names arg must include all features represented in shap_values."
     ]
    }
   ],
   "source": [
    "X_test = np.concatenate((X1, X2), axis=1)\n",
    "X_test = shap.sample(X_test, 512, random_state=42)\n",
    "X_test = X_test[0:128, :]\n",
    "i = 0\n",
    "shap_values = np.load(\"shapevalues_0_127.npy\")\n",
    "shap.decision_plot(2, shap_values[i,:,:], X_test[i, :], feature_names=X.columns)\n"
   ]
  },
  {
   "cell_type": "code",
   "execution_count": 13,
   "metadata": {},
   "outputs": [
    {
     "data": {
      "text/plain": [
       "(128, 630, 5)"
      ]
     },
     "execution_count": 13,
     "metadata": {},
     "output_type": "execute_result"
    }
   ],
   "source": [
    "shap_values.shape"
   ]
  }
 ],
 "metadata": {
  "kernelspec": {
   "display_name": "Heartbeat2",
   "language": "python",
   "name": "python3"
  },
  "language_info": {
   "codemirror_mode": {
    "name": "ipython",
    "version": 3
   },
   "file_extension": ".py",
   "mimetype": "text/x-python",
   "name": "python",
   "nbconvert_exporter": "python",
   "pygments_lexer": "ipython3",
   "version": "3.9.19"
  }
 },
 "nbformat": 4,
 "nbformat_minor": 2
}
