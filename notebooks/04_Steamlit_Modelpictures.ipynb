{
 "cells": [
  {
   "cell_type": "code",
   "execution_count": 1,
   "metadata": {},
   "outputs": [],
   "source": [
    "import tensorflow as tf\n",
    "import matplotlib.pyplot as plt\n",
    "import numpy as np\n",
    "import seaborn as sns\n",
    "import Networks\n",
    "from importlib import reload\n",
    "import os\n",
    "\n"
   ]
  },
  {
   "cell_type": "code",
   "execution_count": 4,
   "metadata": {},
   "outputs": [],
   "source": [
    "\n",
    "reload(Networks)\n",
    "\n",
    "network = Networks.Networks()\n",
    "nets = [network.model_dense1(),\n",
    "        network.model_dense2(),\n",
    "        network.model_convolution_smallkernel(),\n",
    "        network.model_convolution_bigkernel(),\n",
    "        network.model_combined_dense_1(),\n",
    "        network.model_combined_dense_2(),\n",
    "        network.model_combined_cnn_1()]\n",
    "for net in nets:\n",
    "    filepath = os.path.join(\"..\\\\reports\\\\Streamlit\\\\figures\\\\model_figures\", net.name + \".jpg\")\n",
    "    tf.keras.utils.plot_model(net, to_file=filepath,\n",
    "                              show_shapes=True, show_layer_names=False,\n",
    "                              expand_nested=True, show_layer_activations=True,\n",
    "                              rankdir=\"TB\", dpi=200)\n"
   ]
  },
  {
   "cell_type": "code",
   "execution_count": 1,
   "metadata": {},
   "outputs": [
    {
     "data": {
      "text/html": [
       "<div>\n",
       "<style scoped>\n",
       "    .dataframe tbody tr th:only-of-type {\n",
       "        vertical-align: middle;\n",
       "    }\n",
       "\n",
       "    .dataframe tbody tr th {\n",
       "        vertical-align: top;\n",
       "    }\n",
       "\n",
       "    .dataframe thead th {\n",
       "        text-align: right;\n",
       "    }\n",
       "</style>\n",
       "<table border=\"1\" class=\"dataframe\">\n",
       "  <thead>\n",
       "    <tr style=\"text-align: right;\">\n",
       "      <th></th>\n",
       "      <th>run_id</th>\n",
       "      <th>experiment_id</th>\n",
       "      <th>status</th>\n",
       "      <th>artifact_uri</th>\n",
       "      <th>start_time</th>\n",
       "      <th>end_time</th>\n",
       "      <th>metrics.val_F1_score_class1</th>\n",
       "      <th>metrics.val_F1_score_class0</th>\n",
       "      <th>metrics.val_Precision_class3</th>\n",
       "      <th>metrics.validation_Precision_class3</th>\n",
       "      <th>...</th>\n",
       "      <th>params.Data</th>\n",
       "      <th>params.steps_per_epoch</th>\n",
       "      <th>tags.mlflow.runName</th>\n",
       "      <th>tags.mlflow.source.name</th>\n",
       "      <th>tags.mlflow.note.content</th>\n",
       "      <th>tags.mlflow.log-model.history</th>\n",
       "      <th>tags.mlflow.latest_checkpoint_artifact</th>\n",
       "      <th>tags.mlflow.source.type</th>\n",
       "      <th>tags.mlflow.autologging</th>\n",
       "      <th>tags.mlflow.user</th>\n",
       "    </tr>\n",
       "  </thead>\n",
       "  <tbody>\n",
       "    <tr>\n",
       "      <th>0</th>\n",
       "      <td>9ace6cfca9b843ad96db515cc80143c1</td>\n",
       "      <td>0</td>\n",
       "      <td>FINISHED</td>\n",
       "      <td>mlflow-artifacts:/0/9ace6cfca9b843ad96db515cc8...</td>\n",
       "      <td>2024-10-04 16:49:04.184000+00:00</td>\n",
       "      <td>2024-10-04 16:54:56.819000+00:00</td>\n",
       "      <td>0.925788</td>\n",
       "      <td>0.996000</td>\n",
       "      <td>0.976562</td>\n",
       "      <td>0.976562</td>\n",
       "      <td>...</td>\n",
       "      <td>L2_and_V5</td>\n",
       "      <td>None</td>\n",
       "      <td>Combined_cnn_1_L2_and_V5_Time_Nothing_sigmoid_...</td>\n",
       "      <td>c:\\Users\\felix\\anaconda3\\envs\\Heartbeat2\\lib\\s...</td>\n",
       "      <td>Classification Report TRAIN:\\n \\n             ...</td>\n",
       "      <td>[{\"run_id\": \"9ace6cfca9b843ad96db515cc80143c1\"...</td>\n",
       "      <td>checkpoints/latest_checkpoint.h5</td>\n",
       "      <td>LOCAL</td>\n",
       "      <td>tensorflow</td>\n",
       "      <td>felix</td>\n",
       "    </tr>\n",
       "    <tr>\n",
       "      <th>1</th>\n",
       "      <td>8e411242d2d44f64a75eba50a39cf4fa</td>\n",
       "      <td>0</td>\n",
       "      <td>FINISHED</td>\n",
       "      <td>mlflow-artifacts:/0/8e411242d2d44f64a75eba50a3...</td>\n",
       "      <td>2024-10-04 16:43:07.772000+00:00</td>\n",
       "      <td>2024-10-04 16:49:03.839000+00:00</td>\n",
       "      <td>0.927007</td>\n",
       "      <td>0.996221</td>\n",
       "      <td>0.881579</td>\n",
       "      <td>0.881579</td>\n",
       "      <td>...</td>\n",
       "      <td>L2_and_V5</td>\n",
       "      <td>None</td>\n",
       "      <td>Combined_cnn_1_L2_and_V5_Time_Nothing_sigmoid_...</td>\n",
       "      <td>c:\\Users\\felix\\anaconda3\\envs\\Heartbeat2\\lib\\s...</td>\n",
       "      <td>Classification Report TRAIN:\\n \\n             ...</td>\n",
       "      <td>[{\"run_id\": \"8e411242d2d44f64a75eba50a39cf4fa\"...</td>\n",
       "      <td>checkpoints/latest_checkpoint.h5</td>\n",
       "      <td>LOCAL</td>\n",
       "      <td>tensorflow</td>\n",
       "      <td>felix</td>\n",
       "    </tr>\n",
       "    <tr>\n",
       "      <th>2</th>\n",
       "      <td>2c9b11836c8e43998790393a9f12f6bc</td>\n",
       "      <td>0</td>\n",
       "      <td>FINISHED</td>\n",
       "      <td>mlflow-artifacts:/0/2c9b11836c8e43998790393a9f...</td>\n",
       "      <td>2024-10-04 16:37:18.277000+00:00</td>\n",
       "      <td>2024-10-04 16:43:07.370000+00:00</td>\n",
       "      <td>0.937442</td>\n",
       "      <td>0.996624</td>\n",
       "      <td>0.920290</td>\n",
       "      <td>0.920290</td>\n",
       "      <td>...</td>\n",
       "      <td>L2_and_V5</td>\n",
       "      <td>None</td>\n",
       "      <td>Combined_cnn_1_L2_and_V5_Time_Nothing_sigmoid_...</td>\n",
       "      <td>c:\\Users\\felix\\anaconda3\\envs\\Heartbeat2\\lib\\s...</td>\n",
       "      <td>Classification Report TRAIN:\\n \\n             ...</td>\n",
       "      <td>[{\"run_id\": \"2c9b11836c8e43998790393a9f12f6bc\"...</td>\n",
       "      <td>checkpoints/latest_checkpoint.h5</td>\n",
       "      <td>LOCAL</td>\n",
       "      <td>tensorflow</td>\n",
       "      <td>felix</td>\n",
       "    </tr>\n",
       "    <tr>\n",
       "      <th>3</th>\n",
       "      <td>e35a279ef3e5460eac1214c28a913106</td>\n",
       "      <td>0</td>\n",
       "      <td>FINISHED</td>\n",
       "      <td>mlflow-artifacts:/0/e35a279ef3e5460eac1214c28a...</td>\n",
       "      <td>2024-10-04 16:30:37.160000+00:00</td>\n",
       "      <td>2024-10-04 16:37:17.950000+00:00</td>\n",
       "      <td>0.949248</td>\n",
       "      <td>0.997078</td>\n",
       "      <td>0.878378</td>\n",
       "      <td>0.878378</td>\n",
       "      <td>...</td>\n",
       "      <td>L2_and_V5</td>\n",
       "      <td>None</td>\n",
       "      <td>Combined_cnn_1_L2_and_V5_Time_Nothing_sigmoid_...</td>\n",
       "      <td>c:\\Users\\felix\\anaconda3\\envs\\Heartbeat2\\lib\\s...</td>\n",
       "      <td>Classification Report TRAIN:\\n \\n             ...</td>\n",
       "      <td>[{\"run_id\": \"e35a279ef3e5460eac1214c28a913106\"...</td>\n",
       "      <td>checkpoints/latest_checkpoint.h5</td>\n",
       "      <td>LOCAL</td>\n",
       "      <td>tensorflow</td>\n",
       "      <td>felix</td>\n",
       "    </tr>\n",
       "    <tr>\n",
       "      <th>4</th>\n",
       "      <td>b6341fff78d144ad895df14eaf3bc8aa</td>\n",
       "      <td>0</td>\n",
       "      <td>FINISHED</td>\n",
       "      <td>mlflow-artifacts:/0/b6341fff78d144ad895df14eaf...</td>\n",
       "      <td>2024-10-04 16:03:59.774000+00:00</td>\n",
       "      <td>2024-10-04 16:09:53.507000+00:00</td>\n",
       "      <td>0.913004</td>\n",
       "      <td>0.995484</td>\n",
       "      <td>0.904412</td>\n",
       "      <td>0.904412</td>\n",
       "      <td>...</td>\n",
       "      <td>L2_and_V5</td>\n",
       "      <td>None</td>\n",
       "      <td>Combined_cnn_1_L2_and_V5_Time_Nothing_no_weigh...</td>\n",
       "      <td>c:\\Users\\felix\\anaconda3\\envs\\Heartbeat2\\lib\\s...</td>\n",
       "      <td>Classification Report TRAIN:\\n \\n             ...</td>\n",
       "      <td>[{\"run_id\": \"b6341fff78d144ad895df14eaf3bc8aa\"...</td>\n",
       "      <td>checkpoints/latest_checkpoint.h5</td>\n",
       "      <td>LOCAL</td>\n",
       "      <td>tensorflow</td>\n",
       "      <td>felix</td>\n",
       "    </tr>\n",
       "    <tr>\n",
       "      <th>...</th>\n",
       "      <td>...</td>\n",
       "      <td>...</td>\n",
       "      <td>...</td>\n",
       "      <td>...</td>\n",
       "      <td>...</td>\n",
       "      <td>...</td>\n",
       "      <td>...</td>\n",
       "      <td>...</td>\n",
       "      <td>...</td>\n",
       "      <td>...</td>\n",
       "      <td>...</td>\n",
       "      <td>...</td>\n",
       "      <td>...</td>\n",
       "      <td>...</td>\n",
       "      <td>...</td>\n",
       "      <td>...</td>\n",
       "      <td>...</td>\n",
       "      <td>...</td>\n",
       "      <td>...</td>\n",
       "      <td>...</td>\n",
       "      <td>...</td>\n",
       "    </tr>\n",
       "    <tr>\n",
       "      <th>273</th>\n",
       "      <td>c17ce7fb12ce45b6959d21638255ff29</td>\n",
       "      <td>0</td>\n",
       "      <td>FINISHED</td>\n",
       "      <td>mlflow-artifacts:/0/c17ce7fb12ce45b6959d216382...</td>\n",
       "      <td>2024-10-03 14:04:34.862000+00:00</td>\n",
       "      <td>2024-10-03 14:05:17.009000+00:00</td>\n",
       "      <td>0.900285</td>\n",
       "      <td>0.994579</td>\n",
       "      <td>0.848276</td>\n",
       "      <td>0.848276</td>\n",
       "      <td>...</td>\n",
       "      <td>L2</td>\n",
       "      <td>None</td>\n",
       "      <td>Dense_2_L2_Time_Nothing_no_weights_bs_512</td>\n",
       "      <td>c:\\Users\\felix\\anaconda3\\envs\\Heartbeat2\\lib\\s...</td>\n",
       "      <td>Classification Report TRAIN:\\n \\n             ...</td>\n",
       "      <td>[{\"run_id\": \"c17ce7fb12ce45b6959d21638255ff29\"...</td>\n",
       "      <td>checkpoints/latest_checkpoint.h5</td>\n",
       "      <td>LOCAL</td>\n",
       "      <td>tensorflow</td>\n",
       "      <td>felix</td>\n",
       "    </tr>\n",
       "    <tr>\n",
       "      <th>274</th>\n",
       "      <td>8b9f015c676f457aa9f69558fb523407</td>\n",
       "      <td>0</td>\n",
       "      <td>FINISHED</td>\n",
       "      <td>mlflow-artifacts:/0/8b9f015c676f457aa9f69558fb...</td>\n",
       "      <td>2024-10-03 14:04:04.997000+00:00</td>\n",
       "      <td>2024-10-03 14:04:34.756000+00:00</td>\n",
       "      <td>0.731544</td>\n",
       "      <td>0.988256</td>\n",
       "      <td>1.000000</td>\n",
       "      <td>1.000000</td>\n",
       "      <td>...</td>\n",
       "      <td>L2</td>\n",
       "      <td>None</td>\n",
       "      <td>Dense_1_L2_Time_Nothing_no_weights_bs_4096</td>\n",
       "      <td>c:\\Users\\felix\\anaconda3\\envs\\Heartbeat2\\lib\\s...</td>\n",
       "      <td>Classification Report TRAIN:\\n \\n             ...</td>\n",
       "      <td>[{\"run_id\": \"8b9f015c676f457aa9f69558fb523407\"...</td>\n",
       "      <td>checkpoints/latest_checkpoint.h5</td>\n",
       "      <td>LOCAL</td>\n",
       "      <td>tensorflow</td>\n",
       "      <td>felix</td>\n",
       "    </tr>\n",
       "    <tr>\n",
       "      <th>275</th>\n",
       "      <td>4732002273ff431faa97ceddf6220c2f</td>\n",
       "      <td>0</td>\n",
       "      <td>FINISHED</td>\n",
       "      <td>mlflow-artifacts:/0/4732002273ff431faa97ceddf6...</td>\n",
       "      <td>2024-10-03 14:03:34.746000+00:00</td>\n",
       "      <td>2024-10-03 14:04:04.866000+00:00</td>\n",
       "      <td>0.796218</td>\n",
       "      <td>0.991242</td>\n",
       "      <td>0.895238</td>\n",
       "      <td>0.895238</td>\n",
       "      <td>...</td>\n",
       "      <td>L2</td>\n",
       "      <td>None</td>\n",
       "      <td>Dense_1_L2_Time_Nothing_no_weights_bs_2048</td>\n",
       "      <td>c:\\Users\\felix\\anaconda3\\envs\\Heartbeat2\\lib\\s...</td>\n",
       "      <td>Classification Report TRAIN:\\n \\n             ...</td>\n",
       "      <td>[{\"run_id\": \"4732002273ff431faa97ceddf6220c2f\"...</td>\n",
       "      <td>checkpoints/latest_checkpoint.h5</td>\n",
       "      <td>LOCAL</td>\n",
       "      <td>tensorflow</td>\n",
       "      <td>felix</td>\n",
       "    </tr>\n",
       "    <tr>\n",
       "      <th>276</th>\n",
       "      <td>4c18d3a0be9543499ad8501a923eb119</td>\n",
       "      <td>0</td>\n",
       "      <td>FINISHED</td>\n",
       "      <td>mlflow-artifacts:/0/4c18d3a0be9543499ad8501a92...</td>\n",
       "      <td>2024-10-03 14:03:00.136000+00:00</td>\n",
       "      <td>2024-10-03 14:03:34.656000+00:00</td>\n",
       "      <td>0.839844</td>\n",
       "      <td>0.992573</td>\n",
       "      <td>0.808824</td>\n",
       "      <td>0.808824</td>\n",
       "      <td>...</td>\n",
       "      <td>L2</td>\n",
       "      <td>None</td>\n",
       "      <td>Dense_1_L2_Time_Nothing_no_weights_bs_1024</td>\n",
       "      <td>c:\\Users\\felix\\anaconda3\\envs\\Heartbeat2\\lib\\s...</td>\n",
       "      <td>Classification Report TRAIN:\\n \\n             ...</td>\n",
       "      <td>[{\"run_id\": \"4c18d3a0be9543499ad8501a923eb119\"...</td>\n",
       "      <td>checkpoints/latest_checkpoint.h5</td>\n",
       "      <td>LOCAL</td>\n",
       "      <td>tensorflow</td>\n",
       "      <td>felix</td>\n",
       "    </tr>\n",
       "    <tr>\n",
       "      <th>277</th>\n",
       "      <td>c3fe84cf6cec4482aa58ecb40f6cc991</td>\n",
       "      <td>0</td>\n",
       "      <td>FINISHED</td>\n",
       "      <td>mlflow-artifacts:/0/c3fe84cf6cec4482aa58ecb40f...</td>\n",
       "      <td>2024-10-03 14:02:12.741000+00:00</td>\n",
       "      <td>2024-10-03 14:03:00.034000+00:00</td>\n",
       "      <td>0.854976</td>\n",
       "      <td>0.993245</td>\n",
       "      <td>0.835714</td>\n",
       "      <td>0.835714</td>\n",
       "      <td>...</td>\n",
       "      <td>L2</td>\n",
       "      <td>None</td>\n",
       "      <td>Dense_1_L2_Time_Nothing_no_weights_bs_512</td>\n",
       "      <td>c:\\Users\\felix\\anaconda3\\envs\\Heartbeat2\\lib\\s...</td>\n",
       "      <td>Classification Report TRAIN:\\n \\n             ...</td>\n",
       "      <td>[{\"run_id\": \"c3fe84cf6cec4482aa58ecb40f6cc991\"...</td>\n",
       "      <td>checkpoints/latest_checkpoint.h5</td>\n",
       "      <td>LOCAL</td>\n",
       "      <td>tensorflow</td>\n",
       "      <td>felix</td>\n",
       "    </tr>\n",
       "  </tbody>\n",
       "</table>\n",
       "<p>278 rows × 92 columns</p>\n",
       "</div>"
      ],
      "text/plain": [
       "                               run_id experiment_id    status  \\\n",
       "0    9ace6cfca9b843ad96db515cc80143c1             0  FINISHED   \n",
       "1    8e411242d2d44f64a75eba50a39cf4fa             0  FINISHED   \n",
       "2    2c9b11836c8e43998790393a9f12f6bc             0  FINISHED   \n",
       "3    e35a279ef3e5460eac1214c28a913106             0  FINISHED   \n",
       "4    b6341fff78d144ad895df14eaf3bc8aa             0  FINISHED   \n",
       "..                                ...           ...       ...   \n",
       "273  c17ce7fb12ce45b6959d21638255ff29             0  FINISHED   \n",
       "274  8b9f015c676f457aa9f69558fb523407             0  FINISHED   \n",
       "275  4732002273ff431faa97ceddf6220c2f             0  FINISHED   \n",
       "276  4c18d3a0be9543499ad8501a923eb119             0  FINISHED   \n",
       "277  c3fe84cf6cec4482aa58ecb40f6cc991             0  FINISHED   \n",
       "\n",
       "                                          artifact_uri  \\\n",
       "0    mlflow-artifacts:/0/9ace6cfca9b843ad96db515cc8...   \n",
       "1    mlflow-artifacts:/0/8e411242d2d44f64a75eba50a3...   \n",
       "2    mlflow-artifacts:/0/2c9b11836c8e43998790393a9f...   \n",
       "3    mlflow-artifacts:/0/e35a279ef3e5460eac1214c28a...   \n",
       "4    mlflow-artifacts:/0/b6341fff78d144ad895df14eaf...   \n",
       "..                                                 ...   \n",
       "273  mlflow-artifacts:/0/c17ce7fb12ce45b6959d216382...   \n",
       "274  mlflow-artifacts:/0/8b9f015c676f457aa9f69558fb...   \n",
       "275  mlflow-artifacts:/0/4732002273ff431faa97ceddf6...   \n",
       "276  mlflow-artifacts:/0/4c18d3a0be9543499ad8501a92...   \n",
       "277  mlflow-artifacts:/0/c3fe84cf6cec4482aa58ecb40f...   \n",
       "\n",
       "                          start_time                         end_time  \\\n",
       "0   2024-10-04 16:49:04.184000+00:00 2024-10-04 16:54:56.819000+00:00   \n",
       "1   2024-10-04 16:43:07.772000+00:00 2024-10-04 16:49:03.839000+00:00   \n",
       "2   2024-10-04 16:37:18.277000+00:00 2024-10-04 16:43:07.370000+00:00   \n",
       "3   2024-10-04 16:30:37.160000+00:00 2024-10-04 16:37:17.950000+00:00   \n",
       "4   2024-10-04 16:03:59.774000+00:00 2024-10-04 16:09:53.507000+00:00   \n",
       "..                               ...                              ...   \n",
       "273 2024-10-03 14:04:34.862000+00:00 2024-10-03 14:05:17.009000+00:00   \n",
       "274 2024-10-03 14:04:04.997000+00:00 2024-10-03 14:04:34.756000+00:00   \n",
       "275 2024-10-03 14:03:34.746000+00:00 2024-10-03 14:04:04.866000+00:00   \n",
       "276 2024-10-03 14:03:00.136000+00:00 2024-10-03 14:03:34.656000+00:00   \n",
       "277 2024-10-03 14:02:12.741000+00:00 2024-10-03 14:03:00.034000+00:00   \n",
       "\n",
       "     metrics.val_F1_score_class1  metrics.val_F1_score_class0  \\\n",
       "0                       0.925788                     0.996000   \n",
       "1                       0.927007                     0.996221   \n",
       "2                       0.937442                     0.996624   \n",
       "3                       0.949248                     0.997078   \n",
       "4                       0.913004                     0.995484   \n",
       "..                           ...                          ...   \n",
       "273                     0.900285                     0.994579   \n",
       "274                     0.731544                     0.988256   \n",
       "275                     0.796218                     0.991242   \n",
       "276                     0.839844                     0.992573   \n",
       "277                     0.854976                     0.993245   \n",
       "\n",
       "     metrics.val_Precision_class3  metrics.validation_Precision_class3  ...  \\\n",
       "0                        0.976562                             0.976562  ...   \n",
       "1                        0.881579                             0.881579  ...   \n",
       "2                        0.920290                             0.920290  ...   \n",
       "3                        0.878378                             0.878378  ...   \n",
       "4                        0.904412                             0.904412  ...   \n",
       "..                            ...                                  ...  ...   \n",
       "273                      0.848276                             0.848276  ...   \n",
       "274                      1.000000                             1.000000  ...   \n",
       "275                      0.895238                             0.895238  ...   \n",
       "276                      0.808824                             0.808824  ...   \n",
       "277                      0.835714                             0.835714  ...   \n",
       "\n",
       "     params.Data  params.steps_per_epoch  \\\n",
       "0      L2_and_V5                    None   \n",
       "1      L2_and_V5                    None   \n",
       "2      L2_and_V5                    None   \n",
       "3      L2_and_V5                    None   \n",
       "4      L2_and_V5                    None   \n",
       "..           ...                     ...   \n",
       "273           L2                    None   \n",
       "274           L2                    None   \n",
       "275           L2                    None   \n",
       "276           L2                    None   \n",
       "277           L2                    None   \n",
       "\n",
       "                                   tags.mlflow.runName  \\\n",
       "0    Combined_cnn_1_L2_and_V5_Time_Nothing_sigmoid_...   \n",
       "1    Combined_cnn_1_L2_and_V5_Time_Nothing_sigmoid_...   \n",
       "2    Combined_cnn_1_L2_and_V5_Time_Nothing_sigmoid_...   \n",
       "3    Combined_cnn_1_L2_and_V5_Time_Nothing_sigmoid_...   \n",
       "4    Combined_cnn_1_L2_and_V5_Time_Nothing_no_weigh...   \n",
       "..                                                 ...   \n",
       "273          Dense_2_L2_Time_Nothing_no_weights_bs_512   \n",
       "274         Dense_1_L2_Time_Nothing_no_weights_bs_4096   \n",
       "275         Dense_1_L2_Time_Nothing_no_weights_bs_2048   \n",
       "276         Dense_1_L2_Time_Nothing_no_weights_bs_1024   \n",
       "277          Dense_1_L2_Time_Nothing_no_weights_bs_512   \n",
       "\n",
       "                               tags.mlflow.source.name  \\\n",
       "0    c:\\Users\\felix\\anaconda3\\envs\\Heartbeat2\\lib\\s...   \n",
       "1    c:\\Users\\felix\\anaconda3\\envs\\Heartbeat2\\lib\\s...   \n",
       "2    c:\\Users\\felix\\anaconda3\\envs\\Heartbeat2\\lib\\s...   \n",
       "3    c:\\Users\\felix\\anaconda3\\envs\\Heartbeat2\\lib\\s...   \n",
       "4    c:\\Users\\felix\\anaconda3\\envs\\Heartbeat2\\lib\\s...   \n",
       "..                                                 ...   \n",
       "273  c:\\Users\\felix\\anaconda3\\envs\\Heartbeat2\\lib\\s...   \n",
       "274  c:\\Users\\felix\\anaconda3\\envs\\Heartbeat2\\lib\\s...   \n",
       "275  c:\\Users\\felix\\anaconda3\\envs\\Heartbeat2\\lib\\s...   \n",
       "276  c:\\Users\\felix\\anaconda3\\envs\\Heartbeat2\\lib\\s...   \n",
       "277  c:\\Users\\felix\\anaconda3\\envs\\Heartbeat2\\lib\\s...   \n",
       "\n",
       "                              tags.mlflow.note.content  \\\n",
       "0    Classification Report TRAIN:\\n \\n             ...   \n",
       "1    Classification Report TRAIN:\\n \\n             ...   \n",
       "2    Classification Report TRAIN:\\n \\n             ...   \n",
       "3    Classification Report TRAIN:\\n \\n             ...   \n",
       "4    Classification Report TRAIN:\\n \\n             ...   \n",
       "..                                                 ...   \n",
       "273  Classification Report TRAIN:\\n \\n             ...   \n",
       "274  Classification Report TRAIN:\\n \\n             ...   \n",
       "275  Classification Report TRAIN:\\n \\n             ...   \n",
       "276  Classification Report TRAIN:\\n \\n             ...   \n",
       "277  Classification Report TRAIN:\\n \\n             ...   \n",
       "\n",
       "                         tags.mlflow.log-model.history  \\\n",
       "0    [{\"run_id\": \"9ace6cfca9b843ad96db515cc80143c1\"...   \n",
       "1    [{\"run_id\": \"8e411242d2d44f64a75eba50a39cf4fa\"...   \n",
       "2    [{\"run_id\": \"2c9b11836c8e43998790393a9f12f6bc\"...   \n",
       "3    [{\"run_id\": \"e35a279ef3e5460eac1214c28a913106\"...   \n",
       "4    [{\"run_id\": \"b6341fff78d144ad895df14eaf3bc8aa\"...   \n",
       "..                                                 ...   \n",
       "273  [{\"run_id\": \"c17ce7fb12ce45b6959d21638255ff29\"...   \n",
       "274  [{\"run_id\": \"8b9f015c676f457aa9f69558fb523407\"...   \n",
       "275  [{\"run_id\": \"4732002273ff431faa97ceddf6220c2f\"...   \n",
       "276  [{\"run_id\": \"4c18d3a0be9543499ad8501a923eb119\"...   \n",
       "277  [{\"run_id\": \"c3fe84cf6cec4482aa58ecb40f6cc991\"...   \n",
       "\n",
       "     tags.mlflow.latest_checkpoint_artifact  tags.mlflow.source.type  \\\n",
       "0          checkpoints/latest_checkpoint.h5                    LOCAL   \n",
       "1          checkpoints/latest_checkpoint.h5                    LOCAL   \n",
       "2          checkpoints/latest_checkpoint.h5                    LOCAL   \n",
       "3          checkpoints/latest_checkpoint.h5                    LOCAL   \n",
       "4          checkpoints/latest_checkpoint.h5                    LOCAL   \n",
       "..                                      ...                      ...   \n",
       "273        checkpoints/latest_checkpoint.h5                    LOCAL   \n",
       "274        checkpoints/latest_checkpoint.h5                    LOCAL   \n",
       "275        checkpoints/latest_checkpoint.h5                    LOCAL   \n",
       "276        checkpoints/latest_checkpoint.h5                    LOCAL   \n",
       "277        checkpoints/latest_checkpoint.h5                    LOCAL   \n",
       "\n",
       "     tags.mlflow.autologging  tags.mlflow.user  \n",
       "0                 tensorflow             felix  \n",
       "1                 tensorflow             felix  \n",
       "2                 tensorflow             felix  \n",
       "3                 tensorflow             felix  \n",
       "4                 tensorflow             felix  \n",
       "..                       ...               ...  \n",
       "273               tensorflow             felix  \n",
       "274               tensorflow             felix  \n",
       "275               tensorflow             felix  \n",
       "276               tensorflow             felix  \n",
       "277               tensorflow             felix  \n",
       "\n",
       "[278 rows x 92 columns]"
      ]
     },
     "execution_count": 1,
     "metadata": {},
     "output_type": "execute_result"
    }
   ],
   "source": [
    "import mlflow\n",
    "\n",
    "data = mlflow.search_runs()\n",
    "data"
   ]
  },
  {
   "cell_type": "code",
   "execution_count": 68,
   "metadata": {},
   "outputs": [
    {
     "data": {
      "application/vnd.plotly.v1+json": {
       "config": {
        "plotlyServerURL": "https://plot.ly"
       },
       "data": [
        {
         "alignmentgroup": "True",
         "boxpoints": "all",
         "hovertemplate": "params.Model=%{x}<br>metrics.validation_F1_score_class0=%{y}<extra></extra>",
         "legendgroup": "Combined_CNN_1",
         "marker": {
          "color": "#636efa"
         },
         "name": "Combined_CNN_1",
         "notched": false,
         "offsetgroup": "Combined_CNN_1",
         "orientation": "v",
         "showlegend": true,
         "type": "box",
         "x": [
          "Combined_CNN_1",
          "Combined_CNN_1",
          "Combined_CNN_1",
          "Combined_CNN_1",
          "Combined_CNN_1",
          "Combined_CNN_1",
          "Combined_CNN_1",
          "Combined_CNN_1",
          "Combined_CNN_1",
          "Combined_CNN_1",
          "Combined_CNN_1",
          "Combined_CNN_1",
          "Combined_CNN_1",
          "Combined_CNN_1",
          "Combined_CNN_1",
          "Combined_CNN_1",
          "Combined_CNN_1",
          "Combined_CNN_1",
          "Combined_CNN_1",
          "Combined_CNN_1",
          "Combined_CNN_1",
          "Combined_CNN_1",
          "Combined_CNN_1",
          "Combined_CNN_1",
          "Combined_CNN_1",
          "Combined_CNN_1",
          "Combined_CNN_1",
          "Combined_CNN_1",
          "Combined_CNN_1",
          "Combined_CNN_1",
          "Combined_CNN_1",
          "Combined_CNN_1",
          "Combined_CNN_1",
          "Combined_CNN_1",
          "Combined_CNN_1",
          "Combined_CNN_1",
          "Combined_CNN_1",
          "Combined_CNN_1",
          "Combined_CNN_1",
          "Combined_CNN_1",
          "Combined_CNN_1",
          "Combined_CNN_1",
          "Combined_CNN_1",
          "Combined_CNN_1",
          "Combined_CNN_1",
          "Combined_CNN_1",
          "Combined_CNN_1",
          "Combined_CNN_1",
          "Combined_CNN_1",
          "Combined_CNN_1",
          "Combined_CNN_1",
          "Combined_CNN_1",
          "Combined_CNN_1",
          "Combined_CNN_1",
          "Combined_CNN_1",
          "Combined_CNN_1",
          "Combined_CNN_1",
          "Combined_CNN_1",
          "Combined_CNN_1",
          "Combined_CNN_1",
          "Combined_CNN_1",
          "Combined_CNN_1",
          "Combined_CNN_1",
          "Combined_CNN_1",
          "Combined_CNN_1",
          "Combined_CNN_1",
          "Combined_CNN_1",
          "Combined_CNN_1"
         ],
         "x0": " ",
         "xaxis": "x",
         "y": [
          0.9959996342658997,
          0.9962213635444641,
          0.9966242909431458,
          0.9970780611038208,
          0.9954840540885925,
          0.996509850025177,
          0.9965664148330688,
          0.9969087243080139,
          0.9927073121070862,
          0.9938817620277405,
          0.9952369928359985,
          0.99550461769104,
          0.9960002899169922,
          0.992058277130127,
          0.994484543800354,
          0.9939040541648865,
          0.9960489273071289,
          0.9960059523582458,
          0.9919235110282898,
          0.9945760369300842,
          0.9943923354148865,
          0.9954209327697754,
          0.9962782859802246,
          0.9930818676948547,
          0.9944326877593994,
          0.9953696131706238,
          0.9959166049957275,
          0.9957163333892822,
          0.9549692273139954,
          0.9844543933868408,
          0.9771146774291992,
          0.9918916821479797,
          0.9911083579063416,
          0.9647657871246338,
          0.9811440110206604,
          0.9901306629180908,
          0.9893470406532288,
          0.9875919818878174,
          0.9611449837684631,
          0.9749469757080078,
          0.9839423894882202,
          0.9858061671257019,
          0.9914880990982056,
          0.956192672252655,
          0.9766982197761536,
          0.9837028384208679,
          0.9918119311332703,
          0.9933367371559143,
          0.9925406575202942,
          0.9954065084457397,
          0.9961696267127991,
          0.9963656067848206,
          0.9969902634620667,
          0.9928905367851257,
          0.9950301647186279,
          0.9958053827285767,
          0.9963105916976929,
          0.9960231184959412,
          0.9931698441505432,
          0.9949853420257568,
          0.995657205581665,
          0.9959424138069153,
          0.9963118433952332,
          0.9934598803520203,
          0.9948360323905945,
          0.9954380989074707,
          0.9960275888442993,
          0.9953091144561768
         ],
         "y0": " ",
         "yaxis": "y"
        },
        {
         "alignmentgroup": "True",
         "boxpoints": "all",
         "hovertemplate": "params.Model=%{x}<br>metrics.validation_F1_score_class0=%{y}<extra></extra>",
         "legendgroup": "Combined_Dense_2",
         "marker": {
          "color": "#EF553B"
         },
         "name": "Combined_Dense_2",
         "notched": false,
         "offsetgroup": "Combined_Dense_2",
         "orientation": "v",
         "showlegend": true,
         "type": "box",
         "x": [
          "Combined_Dense_2",
          "Combined_Dense_2",
          "Combined_Dense_2",
          "Combined_Dense_2",
          "Combined_Dense_2",
          "Combined_Dense_2",
          "Combined_Dense_2",
          "Combined_Dense_2",
          "Combined_Dense_2",
          "Combined_Dense_2",
          "Combined_Dense_2",
          "Combined_Dense_2",
          "Combined_Dense_2",
          "Combined_Dense_2",
          "Combined_Dense_2"
         ],
         "x0": " ",
         "xaxis": "x",
         "y": [
          0.9917261004447937,
          0.9917043447494507,
          0.9931485056877136,
          0.9923248887062073,
          0.9949434399604797,
          0.9573889970779419,
          0.9559252858161926,
          0.9797226190567017,
          0.9816965460777283,
          0.972361147403717,
          0.9917818903923035,
          0.9943015575408936,
          0.9926465749740601,
          0.995198667049408,
          0.9943441152572632
         ],
         "y0": " ",
         "yaxis": "y"
        },
        {
         "alignmentgroup": "True",
         "boxpoints": "all",
         "hovertemplate": "params.Model=%{x}<br>metrics.validation_F1_score_class0=%{y}<extra></extra>",
         "legendgroup": "Combined_Dense_1",
         "marker": {
          "color": "#00cc96"
         },
         "name": "Combined_Dense_1",
         "notched": false,
         "offsetgroup": "Combined_Dense_1",
         "orientation": "v",
         "showlegend": true,
         "type": "box",
         "x": [
          "Combined_Dense_1",
          "Combined_Dense_1",
          "Combined_Dense_1",
          "Combined_Dense_1",
          "Combined_Dense_1",
          "Combined_Dense_1",
          "Combined_Dense_1",
          "Combined_Dense_1",
          "Combined_Dense_1",
          "Combined_Dense_1",
          "Combined_Dense_1",
          "Combined_Dense_1",
          "Combined_Dense_1",
          "Combined_Dense_1",
          "Combined_Dense_1"
         ],
         "x0": " ",
         "xaxis": "x",
         "y": [
          0.9941955804824829,
          0.9711635708808899,
          0.9945133328437805,
          0.9908459186553955,
          0.993446946144104,
          0.9929977655410767,
          0.9938279390335083,
          0.963384211063385,
          0.9649189114570618,
          0.9745808839797974,
          0.9822893738746643,
          0.9910686016082764,
          0.9933661222457886,
          0.994379460811615,
          0.9952293634414673
         ],
         "y0": " ",
         "yaxis": "y"
        },
        {
         "alignmentgroup": "True",
         "boxpoints": "all",
         "hovertemplate": "params.Model=%{x}<br>metrics.validation_F1_score_class0=%{y}<extra></extra>",
         "legendgroup": "CNN_bigkernel",
         "marker": {
          "color": "#ab63fa"
         },
         "name": "CNN_bigkernel",
         "notched": false,
         "offsetgroup": "CNN_bigkernel",
         "orientation": "v",
         "showlegend": true,
         "type": "box",
         "x": [
          "CNN_bigkernel",
          "CNN_bigkernel",
          "CNN_bigkernel",
          "CNN_bigkernel",
          "CNN_bigkernel",
          "CNN_bigkernel",
          "CNN_bigkernel",
          "CNN_bigkernel",
          "CNN_bigkernel",
          "CNN_bigkernel",
          "CNN_bigkernel",
          "CNN_bigkernel",
          "CNN_bigkernel",
          "CNN_bigkernel",
          "CNN_bigkernel",
          "CNN_bigkernel",
          "CNN_bigkernel",
          "CNN_bigkernel",
          "CNN_bigkernel",
          "CNN_bigkernel",
          "CNN_bigkernel",
          "CNN_bigkernel",
          "CNN_bigkernel",
          "CNN_bigkernel",
          "CNN_bigkernel",
          "CNN_bigkernel",
          "CNN_bigkernel",
          "CNN_bigkernel",
          "CNN_bigkernel",
          "CNN_bigkernel",
          "CNN_bigkernel",
          "CNN_bigkernel",
          "CNN_bigkernel",
          "CNN_bigkernel",
          "CNN_bigkernel",
          "CNN_bigkernel",
          "CNN_bigkernel",
          "CNN_bigkernel",
          "CNN_bigkernel",
          "CNN_bigkernel",
          "CNN_bigkernel",
          "CNN_bigkernel",
          "CNN_bigkernel",
          "CNN_bigkernel",
          "CNN_bigkernel"
         ],
         "x0": " ",
         "xaxis": "x",
         "y": [
          0.9956514835357666,
          0.9918296933174133,
          0.9927247166633606,
          0.9860472679138184,
          0.96168053150177,
          0.9719766974449158,
          0.9958567023277283,
          0.9918546676635742,
          0.9932122826576233,
          0.9869056940078735,
          0.9922181963920593,
          0.9944929480552673,
          0.9948503971099854,
          0.9801531434059143,
          0.9823968410491943,
          0.9886595606803894,
          0.9919604659080505,
          0.9844746589660645,
          0.9842073321342468,
          0.9899798035621643,
          0.9912587404251099,
          0.8745900392532349,
          0.958914577960968,
          0.9397481679916382,
          0.9730405807495117,
          0.7578244209289551,
          0.8700053691864014,
          0.9229691028594971,
          0.9485455751419067,
          0.8370528817176819,
          0.8973824977874756,
          0.934208869934082,
          0.9578651785850525,
          0.9859669208526611,
          0.9911278486251831,
          0.9941264390945435,
          0.9952049255371094,
          0.9819313883781433,
          0.9888687133789062,
          0.9899182915687561,
          0.9911417961120605,
          0.9826802611351013,
          0.9868446588516235,
          0.9916581511497498,
          0.9930873513221741
         ],
         "y0": " ",
         "yaxis": "y"
        },
        {
         "alignmentgroup": "True",
         "boxpoints": "all",
         "hovertemplate": "params.Model=%{x}<br>metrics.validation_F1_score_class0=%{y}<extra></extra>",
         "legendgroup": "CNN_smallkernel",
         "marker": {
          "color": "#FFA15A"
         },
         "name": "CNN_smallkernel",
         "notched": false,
         "offsetgroup": "CNN_smallkernel",
         "orientation": "v",
         "showlegend": true,
         "type": "box",
         "x": [
          "CNN_smallkernel",
          "CNN_smallkernel",
          "CNN_smallkernel",
          "CNN_smallkernel",
          "CNN_smallkernel",
          "CNN_smallkernel",
          "CNN_smallkernel",
          "CNN_smallkernel",
          "CNN_smallkernel",
          "CNN_smallkernel",
          "CNN_smallkernel",
          "CNN_smallkernel",
          "CNN_smallkernel",
          "CNN_smallkernel",
          "CNN_smallkernel",
          "CNN_smallkernel",
          "CNN_smallkernel",
          "CNN_smallkernel",
          "CNN_smallkernel",
          "CNN_smallkernel",
          "CNN_smallkernel",
          "CNN_smallkernel",
          "CNN_smallkernel",
          "CNN_smallkernel",
          "CNN_smallkernel",
          "CNN_smallkernel",
          "CNN_smallkernel",
          "CNN_smallkernel",
          "CNN_smallkernel",
          "CNN_smallkernel",
          "CNN_smallkernel",
          "CNN_smallkernel",
          "CNN_smallkernel",
          "CNN_smallkernel",
          "CNN_smallkernel",
          "CNN_smallkernel",
          "CNN_smallkernel",
          "CNN_smallkernel",
          "CNN_smallkernel",
          "CNN_smallkernel",
          "CNN_smallkernel",
          "CNN_smallkernel",
          "CNN_smallkernel",
          "CNN_smallkernel",
          "CNN_smallkernel"
         ],
         "x0": " ",
         "xaxis": "x",
         "y": [
          0.9962261319160461,
          0.993923544883728,
          0.9908345341682434,
          0.9903934001922607,
          0.9770470261573792,
          0.9837225079536438,
          0.9952301979064941,
          0.9941887855529785,
          0.9946736097335815,
          0.9909530878067017,
          0.9934658408164978,
          0.9944603443145752,
          0.9956323504447937,
          0.9807963371276855,
          0.9881812334060669,
          0.9913620352745056,
          0.991228461265564,
          0.9859614968299866,
          0.9821433424949646,
          0.9895545244216919,
          0.9934288263320923,
          0.938687264919281,
          0.9636390209197998,
          0.9574674963951111,
          0.9804646372795105,
          0.9095832109451294,
          0.9438719153404236,
          0.9472523331642151,
          0.9717809557914734,
          0.922192394733429,
          0.9579939842224121,
          0.9725585579872131,
          0.9497945308685303,
          0.9888032674789429,
          0.9939345121383667,
          0.9948047399520874,
          0.9954919815063477,
          0.9817067384719849,
          0.9868735671043396,
          0.9921767711639404,
          0.9929347038269043,
          0.9841456413269043,
          0.9872590899467468,
          0.9931201338768005,
          0.9931491017341614
         ],
         "y0": " ",
         "yaxis": "y"
        },
        {
         "alignmentgroup": "True",
         "boxpoints": "all",
         "hovertemplate": "params.Model=%{x}<br>metrics.validation_F1_score_class0=%{y}<extra></extra>",
         "legendgroup": "Dense_2",
         "marker": {
          "color": "#19d3f3"
         },
         "name": "Dense_2",
         "notched": false,
         "offsetgroup": "Dense_2",
         "orientation": "v",
         "showlegend": true,
         "type": "box",
         "x": [
          "Dense_2",
          "Dense_2",
          "Dense_2",
          "Dense_2",
          "Dense_2",
          "Dense_2",
          "Dense_2",
          "Dense_2",
          "Dense_2",
          "Dense_2",
          "Dense_2",
          "Dense_2",
          "Dense_2",
          "Dense_2",
          "Dense_2",
          "Dense_2",
          "Dense_2",
          "Dense_2",
          "Dense_2",
          "Dense_2",
          "Dense_2",
          "Dense_2",
          "Dense_2",
          "Dense_2",
          "Dense_2",
          "Dense_2",
          "Dense_2",
          "Dense_2",
          "Dense_2",
          "Dense_2",
          "Dense_2",
          "Dense_2",
          "Dense_2",
          "Dense_2",
          "Dense_2",
          "Dense_2",
          "Dense_2",
          "Dense_2",
          "Dense_2",
          "Dense_2",
          "Dense_2",
          "Dense_2",
          "Dense_2",
          "Dense_2",
          "Dense_2"
         ],
         "x0": " ",
         "xaxis": "x",
         "y": [
          0.995488703250885,
          0.990403950214386,
          0.9942976832389832,
          0.9907874464988708,
          0.9786741137504578,
          0.9854690432548523,
          0.994972825050354,
          0.9924427270889282,
          0.9944615364074707,
          0.994890034198761,
          0.9945389032363892,
          0.9947741627693176,
          0.9941689372062683,
          0.9891350865364075,
          0.9914423227310181,
          0.990345299243927,
          0.9917401671409607,
          0.9933006763458252,
          0.9937270283699036,
          0.9923437833786011,
          0.9927072525024414,
          0.9816409945487976,
          0.9836206436157227,
          0.9877321124076843,
          0.9938806891441345,
          0.9739875793457031,
          0.9748926758766174,
          0.9829807281494141,
          0.9878038167953491,
          0.9718510508537292,
          0.9788192510604858,
          0.9698596000671387,
          0.9865573048591614,
          0.9949765801429749,
          0.9947786331176758,
          0.9951744675636292,
          0.9946885108947754,
          0.9908251166343689,
          0.9916538000106812,
          0.9927205443382263,
          0.9925837516784668,
          0.9933292865753174,
          0.9942172169685364,
          0.9942753314971924,
          0.9945794939994812
         ],
         "y0": " ",
         "yaxis": "y"
        },
        {
         "alignmentgroup": "True",
         "boxpoints": "all",
         "hovertemplate": "params.Model=%{x}<br>metrics.validation_F1_score_class0=%{y}<extra></extra>",
         "legendgroup": "Dense_1",
         "marker": {
          "color": "#FF6692"
         },
         "name": "Dense_1",
         "notched": false,
         "offsetgroup": "Dense_1",
         "orientation": "v",
         "showlegend": true,
         "type": "box",
         "x": [
          "Dense_1",
          "Dense_1",
          "Dense_1",
          "Dense_1",
          "Dense_1",
          "Dense_1",
          "Dense_1",
          "Dense_1",
          "Dense_1",
          "Dense_1",
          "Dense_1",
          "Dense_1",
          "Dense_1",
          "Dense_1",
          "Dense_1",
          "Dense_1",
          "Dense_1",
          "Dense_1",
          "Dense_1",
          "Dense_1",
          "Dense_1",
          "Dense_1",
          "Dense_1",
          "Dense_1",
          "Dense_1",
          "Dense_1",
          "Dense_1",
          "Dense_1",
          "Dense_1",
          "Dense_1",
          "Dense_1",
          "Dense_1",
          "Dense_1",
          "Dense_1",
          "Dense_1",
          "Dense_1",
          "Dense_1",
          "Dense_1",
          "Dense_1",
          "Dense_1",
          "Dense_1",
          "Dense_1",
          "Dense_1",
          "Dense_1",
          "Dense_1"
         ],
         "x0": " ",
         "xaxis": "x",
         "y": [
          0.9944428205490112,
          0.9912633895874023,
          0.9928106069564819,
          0.9933992624282837,
          0.9690150022506714,
          0.9724812507629395,
          0.9948647618293762,
          0.9910637736320496,
          0.9938267469406128,
          0.993107259273529,
          0.9941821694374084,
          0.9943251609802246,
          0.9947513341903687,
          0.9836999773979187,
          0.9873445630073547,
          0.9897344708442688,
          0.9902780652046204,
          0.9876675605773926,
          0.9911002516746521,
          0.9918702840805054,
          0.9917152523994446,
          0.9699690341949463,
          0.9891396164894104,
          0.9891353845596313,
          0.9901441931724548,
          0.9120692610740662,
          0.929969310760498,
          0.9461448192596436,
          0.9652369618415833,
          0.9376385807991028,
          0.9355537295341492,
          0.9638829231262207,
          0.9768814444541931,
          0.9926717877388,
          0.9939334988594055,
          0.9942996501922607,
          0.9946126341819763,
          0.983970046043396,
          0.9874266386032104,
          0.9894646406173706,
          0.9910046458244324,
          0.9882564544677734,
          0.9912424087524414,
          0.9925727844238281,
          0.9932446479797363
         ],
         "y0": " ",
         "yaxis": "y"
        }
       ],
       "layout": {
        "boxmode": "overlay",
        "height": 500,
        "legend": {
         "title": {
          "text": "Metrics"
         },
         "tracegroupgap": 0
        },
        "template": {
         "data": {
          "bar": [
           {
            "error_x": {
             "color": "rgb(51,51,51)"
            },
            "error_y": {
             "color": "rgb(51,51,51)"
            },
            "marker": {
             "line": {
              "color": "rgb(237,237,237)",
              "width": 0.5
             },
             "pattern": {
              "fillmode": "overlay",
              "size": 10,
              "solidity": 0.2
             }
            },
            "type": "bar"
           }
          ],
          "barpolar": [
           {
            "marker": {
             "line": {
              "color": "rgb(237,237,237)",
              "width": 0.5
             },
             "pattern": {
              "fillmode": "overlay",
              "size": 10,
              "solidity": 0.2
             }
            },
            "type": "barpolar"
           }
          ],
          "carpet": [
           {
            "aaxis": {
             "endlinecolor": "rgb(51,51,51)",
             "gridcolor": "white",
             "linecolor": "white",
             "minorgridcolor": "white",
             "startlinecolor": "rgb(51,51,51)"
            },
            "baxis": {
             "endlinecolor": "rgb(51,51,51)",
             "gridcolor": "white",
             "linecolor": "white",
             "minorgridcolor": "white",
             "startlinecolor": "rgb(51,51,51)"
            },
            "type": "carpet"
           }
          ],
          "choropleth": [
           {
            "colorbar": {
             "outlinewidth": 0,
             "tickcolor": "rgb(237,237,237)",
             "ticklen": 6,
             "ticks": "inside"
            },
            "type": "choropleth"
           }
          ],
          "contour": [
           {
            "colorbar": {
             "outlinewidth": 0,
             "tickcolor": "rgb(237,237,237)",
             "ticklen": 6,
             "ticks": "inside"
            },
            "colorscale": [
             [
              0,
              "rgb(20,44,66)"
             ],
             [
              1,
              "rgb(90,179,244)"
             ]
            ],
            "type": "contour"
           }
          ],
          "contourcarpet": [
           {
            "colorbar": {
             "outlinewidth": 0,
             "tickcolor": "rgb(237,237,237)",
             "ticklen": 6,
             "ticks": "inside"
            },
            "type": "contourcarpet"
           }
          ],
          "heatmap": [
           {
            "colorbar": {
             "outlinewidth": 0,
             "tickcolor": "rgb(237,237,237)",
             "ticklen": 6,
             "ticks": "inside"
            },
            "colorscale": [
             [
              0,
              "rgb(20,44,66)"
             ],
             [
              1,
              "rgb(90,179,244)"
             ]
            ],
            "type": "heatmap"
           }
          ],
          "heatmapgl": [
           {
            "colorbar": {
             "outlinewidth": 0,
             "tickcolor": "rgb(237,237,237)",
             "ticklen": 6,
             "ticks": "inside"
            },
            "colorscale": [
             [
              0,
              "rgb(20,44,66)"
             ],
             [
              1,
              "rgb(90,179,244)"
             ]
            ],
            "type": "heatmapgl"
           }
          ],
          "histogram": [
           {
            "marker": {
             "pattern": {
              "fillmode": "overlay",
              "size": 10,
              "solidity": 0.2
             }
            },
            "type": "histogram"
           }
          ],
          "histogram2d": [
           {
            "colorbar": {
             "outlinewidth": 0,
             "tickcolor": "rgb(237,237,237)",
             "ticklen": 6,
             "ticks": "inside"
            },
            "colorscale": [
             [
              0,
              "rgb(20,44,66)"
             ],
             [
              1,
              "rgb(90,179,244)"
             ]
            ],
            "type": "histogram2d"
           }
          ],
          "histogram2dcontour": [
           {
            "colorbar": {
             "outlinewidth": 0,
             "tickcolor": "rgb(237,237,237)",
             "ticklen": 6,
             "ticks": "inside"
            },
            "colorscale": [
             [
              0,
              "rgb(20,44,66)"
             ],
             [
              1,
              "rgb(90,179,244)"
             ]
            ],
            "type": "histogram2dcontour"
           }
          ],
          "mesh3d": [
           {
            "colorbar": {
             "outlinewidth": 0,
             "tickcolor": "rgb(237,237,237)",
             "ticklen": 6,
             "ticks": "inside"
            },
            "type": "mesh3d"
           }
          ],
          "parcoords": [
           {
            "line": {
             "colorbar": {
              "outlinewidth": 0,
              "tickcolor": "rgb(237,237,237)",
              "ticklen": 6,
              "ticks": "inside"
             }
            },
            "type": "parcoords"
           }
          ],
          "pie": [
           {
            "automargin": true,
            "type": "pie"
           }
          ],
          "scatter": [
           {
            "fillpattern": {
             "fillmode": "overlay",
             "size": 10,
             "solidity": 0.2
            },
            "type": "scatter"
           }
          ],
          "scatter3d": [
           {
            "line": {
             "colorbar": {
              "outlinewidth": 0,
              "tickcolor": "rgb(237,237,237)",
              "ticklen": 6,
              "ticks": "inside"
             }
            },
            "marker": {
             "colorbar": {
              "outlinewidth": 0,
              "tickcolor": "rgb(237,237,237)",
              "ticklen": 6,
              "ticks": "inside"
             }
            },
            "type": "scatter3d"
           }
          ],
          "scattercarpet": [
           {
            "marker": {
             "colorbar": {
              "outlinewidth": 0,
              "tickcolor": "rgb(237,237,237)",
              "ticklen": 6,
              "ticks": "inside"
             }
            },
            "type": "scattercarpet"
           }
          ],
          "scattergeo": [
           {
            "marker": {
             "colorbar": {
              "outlinewidth": 0,
              "tickcolor": "rgb(237,237,237)",
              "ticklen": 6,
              "ticks": "inside"
             }
            },
            "type": "scattergeo"
           }
          ],
          "scattergl": [
           {
            "marker": {
             "colorbar": {
              "outlinewidth": 0,
              "tickcolor": "rgb(237,237,237)",
              "ticklen": 6,
              "ticks": "inside"
             }
            },
            "type": "scattergl"
           }
          ],
          "scattermapbox": [
           {
            "marker": {
             "colorbar": {
              "outlinewidth": 0,
              "tickcolor": "rgb(237,237,237)",
              "ticklen": 6,
              "ticks": "inside"
             }
            },
            "type": "scattermapbox"
           }
          ],
          "scatterpolar": [
           {
            "marker": {
             "colorbar": {
              "outlinewidth": 0,
              "tickcolor": "rgb(237,237,237)",
              "ticklen": 6,
              "ticks": "inside"
             }
            },
            "type": "scatterpolar"
           }
          ],
          "scatterpolargl": [
           {
            "marker": {
             "colorbar": {
              "outlinewidth": 0,
              "tickcolor": "rgb(237,237,237)",
              "ticklen": 6,
              "ticks": "inside"
             }
            },
            "type": "scatterpolargl"
           }
          ],
          "scatterternary": [
           {
            "marker": {
             "colorbar": {
              "outlinewidth": 0,
              "tickcolor": "rgb(237,237,237)",
              "ticklen": 6,
              "ticks": "inside"
             }
            },
            "type": "scatterternary"
           }
          ],
          "surface": [
           {
            "colorbar": {
             "outlinewidth": 0,
             "tickcolor": "rgb(237,237,237)",
             "ticklen": 6,
             "ticks": "inside"
            },
            "colorscale": [
             [
              0,
              "rgb(20,44,66)"
             ],
             [
              1,
              "rgb(90,179,244)"
             ]
            ],
            "type": "surface"
           }
          ],
          "table": [
           {
            "cells": {
             "fill": {
              "color": "rgb(237,237,237)"
             },
             "line": {
              "color": "white"
             }
            },
            "header": {
             "fill": {
              "color": "rgb(217,217,217)"
             },
             "line": {
              "color": "white"
             }
            },
            "type": "table"
           }
          ]
         },
         "layout": {
          "annotationdefaults": {
           "arrowhead": 0,
           "arrowwidth": 1
          },
          "autotypenumbers": "strict",
          "coloraxis": {
           "colorbar": {
            "outlinewidth": 0,
            "tickcolor": "rgb(237,237,237)",
            "ticklen": 6,
            "ticks": "inside"
           }
          },
          "colorscale": {
           "sequential": [
            [
             0,
             "rgb(20,44,66)"
            ],
            [
             1,
             "rgb(90,179,244)"
            ]
           ],
           "sequentialminus": [
            [
             0,
             "rgb(20,44,66)"
            ],
            [
             1,
             "rgb(90,179,244)"
            ]
           ]
          },
          "colorway": [
           "#F8766D",
           "#A3A500",
           "#00BF7D",
           "#00B0F6",
           "#E76BF3"
          ],
          "font": {
           "color": "rgb(51,51,51)"
          },
          "geo": {
           "bgcolor": "white",
           "lakecolor": "white",
           "landcolor": "rgb(237,237,237)",
           "showlakes": true,
           "showland": true,
           "subunitcolor": "white"
          },
          "hoverlabel": {
           "align": "left"
          },
          "hovermode": "closest",
          "paper_bgcolor": "white",
          "plot_bgcolor": "rgb(237,237,237)",
          "polar": {
           "angularaxis": {
            "gridcolor": "white",
            "linecolor": "white",
            "showgrid": true,
            "tickcolor": "rgb(51,51,51)",
            "ticks": "outside"
           },
           "bgcolor": "rgb(237,237,237)",
           "radialaxis": {
            "gridcolor": "white",
            "linecolor": "white",
            "showgrid": true,
            "tickcolor": "rgb(51,51,51)",
            "ticks": "outside"
           }
          },
          "scene": {
           "xaxis": {
            "backgroundcolor": "rgb(237,237,237)",
            "gridcolor": "white",
            "gridwidth": 2,
            "linecolor": "white",
            "showbackground": true,
            "showgrid": true,
            "tickcolor": "rgb(51,51,51)",
            "ticks": "outside",
            "zerolinecolor": "white"
           },
           "yaxis": {
            "backgroundcolor": "rgb(237,237,237)",
            "gridcolor": "white",
            "gridwidth": 2,
            "linecolor": "white",
            "showbackground": true,
            "showgrid": true,
            "tickcolor": "rgb(51,51,51)",
            "ticks": "outside",
            "zerolinecolor": "white"
           },
           "zaxis": {
            "backgroundcolor": "rgb(237,237,237)",
            "gridcolor": "white",
            "gridwidth": 2,
            "linecolor": "white",
            "showbackground": true,
            "showgrid": true,
            "tickcolor": "rgb(51,51,51)",
            "ticks": "outside",
            "zerolinecolor": "white"
           }
          },
          "shapedefaults": {
           "fillcolor": "black",
           "line": {
            "width": 0
           },
           "opacity": 0.3
          },
          "ternary": {
           "aaxis": {
            "gridcolor": "white",
            "linecolor": "white",
            "showgrid": true,
            "tickcolor": "rgb(51,51,51)",
            "ticks": "outside"
           },
           "baxis": {
            "gridcolor": "white",
            "linecolor": "white",
            "showgrid": true,
            "tickcolor": "rgb(51,51,51)",
            "ticks": "outside"
           },
           "bgcolor": "rgb(237,237,237)",
           "caxis": {
            "gridcolor": "white",
            "linecolor": "white",
            "showgrid": true,
            "tickcolor": "rgb(51,51,51)",
            "ticks": "outside"
           }
          },
          "xaxis": {
           "automargin": true,
           "gridcolor": "white",
           "linecolor": "white",
           "showgrid": true,
           "tickcolor": "rgb(51,51,51)",
           "ticks": "outside",
           "title": {
            "standoff": 15
           },
           "zerolinecolor": "white"
          },
          "yaxis": {
           "automargin": true,
           "gridcolor": "white",
           "linecolor": "white",
           "showgrid": true,
           "tickcolor": "rgb(51,51,51)",
           "ticks": "outside",
           "title": {
            "standoff": 15
           },
           "zerolinecolor": "white"
          }
         }
        },
        "title": {
         "text": "Validation F1"
        },
        "width": 900,
        "xaxis": {
         "anchor": "y",
         "categoryarray": [
          "Combined_CNN_1",
          "Combined_Dense_2",
          "Combined_Dense_1",
          "CNN_bigkernel",
          "CNN_smallkernel",
          "Dense_2",
          "Dense_1"
         ],
         "categoryorder": "array",
         "domain": [
          0,
          1
         ],
         "tickangle": -35,
         "title": {
          "text": "Model"
         }
        },
        "yaxis": {
         "anchor": "x",
         "domain": [
          0,
          1
         ],
         "title": {
          "text": "F1"
         }
        }
       }
      }
     },
     "metadata": {},
     "output_type": "display_data"
    }
   ],
   "source": [
    "import pandas as pd\n",
    "data = pd.read_pickle(\"..\\\\reports\\\\Streamlit\\\\mlflow_database\")\n",
    "data.replace({\"Combined_cnn_1\": \"Combined_CNN_1\",\n",
    "              \"Convolution_smallkernel\": \"CNN_smallkernel\",\n",
    "              \"Convolution_bigkernel\": \"CNN_bigkernel\"}, inplace=True)\n",
    "\n",
    "\n",
    "\n",
    "\n",
    "# radio_parameter = col1.radio(\"Parameter:\", (\"Model\", \"Batch size\", \"class weights\", \"Data\"))\n",
    "# radio_color = col1.radio(\"Color-Parameter:\", (\"Model\", \"Batch size\", \"class weights\", \"Data\"))\n",
    "# radio_dataset = col2.radio(\"Dataset:\", (\"Train\", \"Validation\"))\n",
    "# radio_metric = col3.radio(\"Metric:\", (\"Precision\", \"Recall\", \"F1\", \"Loss\"))\n",
    "# radio_class = col4.radio(\"Class:\", (\"Overall\", \"Class 0\", \"Class 1\", \"Class 2\", \"Class 3\", \"Class 4\"))\n",
    "\n",
    "radio_parameter = \"Model\"\n",
    "radio_dataset = \"Validation\"\n",
    "radio_metric = \"F1\"\n",
    "radio_color = \"Model\"\n",
    "radio_class = \"Class 0\"\n",
    "def convert_parameter(value):\n",
    "    if value == \"Model\":\n",
    "        df_name = \"params.Model\"\n",
    "    elif value == \"Batch size\":\n",
    "        df_name = \"params.batch_size\"\n",
    "    elif value == \"class weights\":\n",
    "        df_name = \"params.Weights\"\n",
    "    elif value == \"Data\":\n",
    "        df_name = \"params.Data\"\n",
    "    return df_name\n",
    "radio_parameter_value = convert_parameter(radio_parameter)\n",
    "radio_color_value = convert_parameter(radio_color)\n",
    "\n",
    "# For the \"overall\"-Metric\n",
    "classweights = np.array([87887, 2760, 6165, 710, 7894])\n",
    "classweights = classweights / np.sum(classweights)\n",
    "\n",
    "for dataset in [\"\", \"validation_\"]:\n",
    "    for metric in [\"Precision\", \"Recall\", \"F1_score\"]:\n",
    "        classvalues = np.zeros(5)\n",
    "        temp = data[\"metrics.\" + dataset+metric+\"_class1\"]*0\n",
    "        for classes in [0, 1, 2, 3, 4]:\n",
    "            temp = temp + data[\"metrics.\" + dataset+metric+\"_class\" + str(classes)] #* classweights[classes]\n",
    "        data[dataset+metric+\"_makro\"] = temp / 5\n",
    "\n",
    "\n",
    "\n",
    "colname = \"metrics.\"\n",
    "# Dataset-Radio\n",
    "if radio_dataset == \"Validation\":\n",
    "    colname = colname + \"validation_\"  # for train nothing necessary\n",
    "# Metric-Radio\n",
    "if radio_metric == \"Precision\":\n",
    "    colname = colname + \"Precision_\"\n",
    "elif radio_metric == \"Recall\":\n",
    "    colname = colname + \"Recall_\"\n",
    "elif radio_metric == \"F1\":\n",
    "    colname = colname + \"F1_score_\"\n",
    "# Class-Metric\n",
    "if radio_class == \"Makro\":\n",
    "    colname = colname + \"makro\"\n",
    "else:\n",
    "    colname = colname + \"class\" + radio_class[-1]\n",
    "\n",
    "import plotly.express as px\n",
    "fig = px.box(data, x=radio_parameter_value, y=colname,\n",
    "             color=radio_color_value, points=\"all\",\n",
    "             title=radio_dataset + \" \" + radio_metric\n",
    "             )\n",
    "fig.update_layout(title=radio_dataset + \" \" + radio_metric,\n",
    "                    xaxis_title=radio_parameter,\n",
    "                    yaxis_title=radio_metric,\n",
    "                    legend_title=\"Metrics\",\n",
    "                    template = \"ggplot2\",\n",
    "                    width=900,\n",
    "                    height=500,\n",
    "                    )\n",
    "fig.update_xaxes(tickangle=-35)\n",
    "fig.show()\n",
    "# sns.boxplot(data=data, x=\"params.Model\", y=colname, hue=\"params.Model\", )\n",
    "# plt.xticks(rotation=90)"
   ]
  },
  {
   "cell_type": "code",
   "execution_count": 70,
   "metadata": {},
   "outputs": [
    {
     "data": {
      "text/plain": [
       "Index(['run_id', 'experiment_id', 'status', 'artifact_uri', 'start_time',\n",
       "       'end_time', 'metrics.val_F1_score_class1',\n",
       "       'metrics.val_F1_score_class0', 'metrics.val_Precision_class3',\n",
       "       'metrics.validation_Precision_class3', 'metrics.val_loss',\n",
       "       'metrics.val_Recall_class3', 'metrics.Recall_class2',\n",
       "       'metrics.validation_loss', 'metrics.validation_Precision_class4',\n",
       "       'metrics.validation_Recall_class3',\n",
       "       'metrics.validation_F1_score_class0', 'metrics.Cat_accuracy',\n",
       "       'metrics.val_Precision_class1', 'metrics.Precision_class1',\n",
       "       'metrics.validation_Recall_class2', 'metrics.val_Recall_class4',\n",
       "       'metrics.loss', 'metrics.Recall_class0', 'metrics.val_Cat_accuracy',\n",
       "       'metrics.val_F1_score_class3', 'metrics.val_Recall_class1',\n",
       "       'metrics.Recall_class4', 'metrics.val_Precision_class4',\n",
       "       'metrics.Precision_class2', 'metrics.val_Recall_class2',\n",
       "       'metrics.F1_score_class2', 'metrics.Precision_class4',\n",
       "       'metrics.Precision_class0', 'metrics.val_F1_score_class2',\n",
       "       'metrics.validation_F1_score_class1', 'metrics.val_Precision_class2',\n",
       "       'metrics.Recall_class1', 'metrics.val_Recall_class0',\n",
       "       'metrics.Precision_class3', 'metrics.F1_score_class4',\n",
       "       'metrics.validation_Precision_class1', 'metrics.F1_score_class0',\n",
       "       'metrics.validation_Recall_class0',\n",
       "       'metrics.validation_F1_score_class4',\n",
       "       'metrics.validation_F1_score_class3', 'metrics.F1_score_class1',\n",
       "       'metrics.validation_Cat_accuracy', 'metrics.validation_Recall_class4',\n",
       "       'metrics.validation_F1_score_class2', 'metrics.val_Precision_class0',\n",
       "       'metrics.validation_Precision_class2',\n",
       "       'metrics.validation_Recall_class1',\n",
       "       'metrics.validation_Precision_class0', 'metrics.Recall_class3',\n",
       "       'metrics.val_F1_score_class4', 'metrics.F1_score_class3',\n",
       "       'params.opt_beta_2', 'params.Kernel_size', 'params.max_queue_size',\n",
       "       'params.validation_batch_size', 'params.epochs', 'params.sample_weight',\n",
       "       'params.opt_beta_1', 'params.opt_epsilon', 'params.validation_split',\n",
       "       'params.Domain', 'params.shuffle', 'params.validation_steps',\n",
       "       'params.use_multiprocessing', 'params.validation_freq',\n",
       "       'params.opt_learning_rate', 'params.batch_size', 'params.workers',\n",
       "       'params.class_weight', 'params.Weights', 'params.opt_amsgrad',\n",
       "       'params.Model', 'params.opt_name', 'params.opt_decay',\n",
       "       'params.initial_epoch', 'params.Preprocess', 'params.Data',\n",
       "       'params.steps_per_epoch', 'tags.mlflow.runName',\n",
       "       'tags.mlflow.source.name', 'tags.mlflow.note.content',\n",
       "       'tags.mlflow.log-model.history',\n",
       "       'tags.mlflow.latest_checkpoint_artifact', 'tags.mlflow.source.type',\n",
       "       'tags.mlflow.autologging', 'tags.mlflow.user', 'Precision_makro',\n",
       "       'Recall_makro', 'F1_score_makro', 'validation_Precision_makro',\n",
       "       'validation_Recall_makro', 'validation_F1_score_makro'],\n",
       "      dtype='object')"
      ]
     },
     "execution_count": 70,
     "metadata": {},
     "output_type": "execute_result"
    }
   ],
   "source": [
    "data.keys()"
   ]
  },
  {
   "cell_type": "code",
   "execution_count": 94,
   "metadata": {},
   "outputs": [
    {
     "data": {
      "text/plain": [
       "'mlflow-artifacts:/0/9ace6cfca9b843ad96db515cc80143c1/artifacts'"
      ]
     },
     "execution_count": 94,
     "metadata": {},
     "output_type": "execute_result"
    }
   ],
   "source": [
    "data[\"params.Kernel_size\"].unique()\n",
    "data.loc[data[\"params.Kernel_size\"] == 3, \"params.Kernel_size\"] = 888\n",
    "data[\"params.Kernel_size\"].unique()\n",
    "data[\"artifact_uri\"][0]\n"
   ]
  },
  {
   "cell_type": "code",
   "execution_count": null,
   "metadata": {},
   "outputs": [],
   "source": []
  },
  {
   "cell_type": "code",
   "execution_count": 97,
   "metadata": {},
   "outputs": [
    {
     "data": {
      "text/plain": [
       "'9ace6cfca9b843ad96db515cc80143c1'"
      ]
     },
     "execution_count": 97,
     "metadata": {},
     "output_type": "execute_result"
    }
   ],
   "source": [
    "data.loc[0, \"run_id\"]"
   ]
  }
 ],
 "metadata": {
  "kernelspec": {
   "display_name": "Heartbeat2",
   "language": "python",
   "name": "python3"
  },
  "language_info": {
   "codemirror_mode": {
    "name": "ipython",
    "version": 3
   },
   "file_extension": ".py",
   "mimetype": "text/x-python",
   "name": "python",
   "nbconvert_exporter": "python",
   "pygments_lexer": "ipython3",
   "version": "3.9.19"
  }
 },
 "nbformat": 4,
 "nbformat_minor": 2
}
